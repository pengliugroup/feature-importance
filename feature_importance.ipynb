{
 "cells": [
  {
   "cell_type": "code",
   "execution_count": 1,
   "metadata": {},
   "outputs": [],
   "source": [
    "import numpy as np\n",
    "import pandas as pd\n",
    "#import seaborn as sns\n",
    "from sklearn.ensemble import RandomForestRegressor\n",
    "import matplotlib.pyplot as plt\n"
   ]
  },
  {
   "cell_type": "code",
   "execution_count": 2,
   "metadata": {},
   "outputs": [],
   "source": [
    "data = pd.read_excel(\"DAB12.xlsx\", sheet_name=\"exo\")\n",
    "dataset = data.drop(['Name', 'Class',\\\n",
    "                     'Dist_DAB',\\\n",
    "                     'E1_elec', 'E1_polar', 'E1_ct',\\\n",
    "                     'E2_elec', 'E2_Pauli', 'E2_polar', 'E2_ct', 'E2_solv',\\\n",
    "                     'E3_elec', 'E3_disp', 'E3_ct', 'E3_solv'], axis = 1)\n",
    "\n",
    "name = dataset.drop('deltaG', axis = 1)\n"
   ]
  },
  {
   "cell_type": "code",
   "execution_count": 3,
   "metadata": {},
   "outputs": [],
   "source": [
    "####################\n",
    "def mean_confidence_interval(data, confidence=0.95):\n",
    "    a = 1.0 * np.array(data)\n",
    "    n = len(a)\n",
    "    m, se = np.mean(a), scipy.stats.sem(a)\n",
    "    h = se * scipy.stats.t.ppf((1 + confidence) / 2., n-1)\n",
    "    return m, m-h, m+h, h\n"
   ]
  },
  {
   "cell_type": "code",
   "execution_count": 4,
   "metadata": {},
   "outputs": [],
   "source": [
    "####################\n",
    "def calc_feature_importances(data, model, data_iterations, cv_iterations):\n",
    "    # Track overall average feature importances\n",
    "    overall_average_importances = []\n",
    "    for i in range(0, len(data.columns)-1):\n",
    "        overall_average_importances.append([])\n",
    "\n",
    "    X = data.drop('deltaG', axis = 1)\n",
    "    y = data['deltaG']\n",
    "    # Iterate through data selection iterations\n",
    "    importances_all = []\n",
    "    for i in range(0, data_iterations):\n",
    "\n",
    "        # Track importances at each iteration\n",
    "        cv_importances = []\n",
    "        for i in range(0, len(X.columns)):\n",
    "            cv_importances.append([])\n",
    "\n",
    "        # Do N fold training on selected subset, record feature importances\n",
    "        for i in range(0, cv_iterations):\n",
    "            model.fit(X, y)\n",
    "            importances = list(model.feature_importances_)\n",
    "            importances_all.append(model.feature_importances_)\n",
    "            for j in range(0, len(importances)):\n",
    "                cv_importances[j].append(importances[j])\n",
    "\n",
    "        # Average importances\n",
    "        avg_importances = []\n",
    "        for list_of_importances in cv_importances:\n",
    "            avg_importances.append(np.mean(list_of_importances))\n",
    "\n",
    "        # Record Averages\n",
    "        for avg_imp in range(0, len(avg_importances)):\n",
    "            overall_average_importances[avg_imp].append(avg_importances[avg_imp])\n",
    "\n",
    "    # Compute the average score over all data iterations (samplings of 'other' trajectories for the training set)\n",
    "    final_average_importances = []\n",
    "    for q in overall_average_importances:\n",
    "        final_average_importances.append(np.mean(q))\n",
    "\n",
    "    # Return overall average feature importances\n",
    "    return final_average_importances, importances_all\n"
   ]
  },
  {
   "cell_type": "code",
   "execution_count": 5,
   "metadata": {},
   "outputs": [],
   "source": [
    "#Use Random Forest model to determine feature importances\n",
    "RF = RandomForestRegressor(criterion='mse')\n",
    "#RF = RandomForestRegressor(criterion='mse',n_estimators=30,max_depth=40, max_features=5)\n",
    "\n",
    "#Call calc_feature_importances method to iteratively determine feature importances\n",
    "results, importances = calc_feature_importances(dataset, RF, 10, 20)\n"
   ]
  },
  {
   "cell_type": "code",
   "execution_count": 6,
   "metadata": {},
   "outputs": [
    {
     "name": "stdout",
     "output_type": "stream",
     "text": [
      "[0.014554041198462896, 0.012398973014124497, 0.12955352660036204, 0.022229470126815833, 0.1591168301483838, 0.6040271055626958, 0.047315184451087865, 0.010804868898067312] [0.015435149444408276, 0.012735003267189125, 0.13342415539837668, 0.022834869318218064, 0.16344828788701046, 0.6097887747071149, 0.049354621527839704, 0.011067708892792447] [0.013672932952517515, 0.01206294276105987, 0.1256828978023474, 0.021624070935413603, 0.15478537240975712, 0.5982654364182767, 0.045275747374336026, 0.010542028903342177] [0.0008811082459453812, 0.0003360302530646283, 0.0038706287980146384, 0.0006053991914022293, 0.0043314577386266775, 0.00576166914441906, 0.0020394370767518404, 0.0002628399947251341]\n"
     ]
    }
   ],
   "source": [
    "#Display Results\n",
    "import scipy.stats\n",
    "w_upper = []\n",
    "w_lower = []\n",
    "w_means = []\n",
    "w_err = []\n",
    "for i in range(len(importances[0])):\n",
    "    p_array = []\n",
    "    for j in range(len(importances)):\n",
    "        p_array.append(importances[j][i])\n",
    "    mean, CI_lower, CI_upper, err = mean_confidence_interval(p_array)\n",
    "    w_upper.append(CI_upper)\n",
    "    w_lower.append(CI_lower)\n",
    "    w_means.append(mean)\n",
    "    w_err.append(err)\n",
    "print(w_means,w_upper,w_lower, w_err)"
   ]
  },
  {
   "cell_type": "code",
   "execution_count": 7,
   "metadata": {},
   "outputs": [
    {
     "data": {
      "text/plain": [
       "<Figure size 576x360 with 0 Axes>"
      ]
     },
     "metadata": {},
     "output_type": "display_data"
    },
    {
     "data": {
      "image/png": "[encoded data removed]",
      "text/plain": [
       "<Figure size 432x288 with 1 Axes>"
      ]
     },
     "metadata": {
      "needs_background": "light"
     },
     "output_type": "display_data"
    }
   ],
   "source": [
    "%matplotlib inline\n",
    "# plot feature importance\n",
    "plt.figure(figsize=(len(name.columns),5))\n",
    "f = plt.figure()\n",
    "ax = f.add_subplot(111)\n",
    "ax.yaxis.tick_right()\n",
    "plt.tick_params(axis='y', labelsize=18)\n",
    "plt.bar(name.columns, results)\n",
    "plt.bar(name.columns, results, color='#1f77b4',\n",
    "        yerr=w_err,\n",
    "        align='center',\n",
    "        #alpha=0.5,\n",
    "        ecolor='red',\n",
    "        capsize=10)\n",
    "plt.xticks(rotation=90, horizontalalignment=\"center\")\n",
    "#plt.tick_params(axis='y', which='both', labelleft='off', labelright='off', direction='out')\n",
    "plt.yticks(np.arange(0,1.1,0.2))\n",
    "plt.show()\n",
    "\n"
   ]
  },
  {
   "cell_type": "code",
   "execution_count": null,
   "metadata": {},
   "outputs": [],
   "source": []
  }
 ],
 "metadata": {
  "kernelspec": {
   "display_name": "Python 3",
   "language": "python",
   "name": "python3"
  },
  "language_info": {
   "codemirror_mode": {
    "name": "ipython",
    "version": 3
   },
   "file_extension": ".py",
   "mimetype": "text/x-python",
   "name": "python",
   "nbconvert_exporter": "python",
   "pygments_lexer": "ipython3",
   "version": "3.8.5"
  }
 },
 "nbformat": 4,
 "nbformat_minor": 4
}
